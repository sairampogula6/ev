{
  "nbformat": 4,
  "nbformat_minor": 0,
  "metadata": {
    "colab": {
      "provenance": [],
      "authorship_tag": "ABX9TyNy4qvT6JZehuGgLGhQSEsH",
      "include_colab_link": true
    },
    "kernelspec": {
      "name": "python3",
      "display_name": "Python 3"
    },
    "language_info": {
      "name": "python"
    }
  },
  "cells": [
    {
      "cell_type": "markdown",
      "metadata": {
        "id": "view-in-github",
        "colab_type": "text"
      },
      "source": [
        "<a href=\"https://colab.research.google.com/github/sairampogula6/ev/blob/main/Untitled5.ipynb\" target=\"_parent\"><img src=\"https://colab.research.google.com/assets/colab-badge.svg\" alt=\"Open In Colab\"/></a>"
      ]
    },
    {
      "cell_type": "code",
      "source": [
        "import pandas as pd\n",
        "from numpy import nan as NA\n",
        "data = pd.Series([1, NA, 3.5, NA, 7])\n",
        "print(data)"
      ],
      "metadata": {
        "colab": {
          "base_uri": "https://localhost:8080/"
        },
        "id": "6_JR9PRQwE1E",
        "outputId": "9a9dc5e6-f693-4b51-91e8-b938d830b206"
      },
      "execution_count": 14,
      "outputs": [
        {
          "output_type": "stream",
          "name": "stdout",
          "text": [
            "0    1.0\n",
            "1    NaN\n",
            "2    3.5\n",
            "3    NaN\n",
            "4    7.0\n",
            "dtype: float64\n"
          ]
        }
      ]
    },
    {
      "cell_type": "code",
      "source": [
        "data.dropna()"
      ],
      "metadata": {
        "colab": {
          "base_uri": "https://localhost:8080/"
        },
        "id": "PmNleU_70TWw",
        "outputId": "8168e125-9629-4013-c045-dc952882f537"
      },
      "execution_count": 15,
      "outputs": [
        {
          "output_type": "execute_result",
          "data": {
            "text/plain": [
              "0    1.0\n",
              "2    3.5\n",
              "4    7.0\n",
              "dtype: float64"
            ]
          },
          "metadata": {},
          "execution_count": 15
        }
      ]
    },
    {
      "cell_type": "code",
      "source": [
        "import pandas as pd\n",
        "from numpy import nan as NA \n",
        "data = pd.DataFrame([[1., 6.5, 3.], [1., NA, NA],\n",
        "[NA, NA, NA], [NA, 6.5, 3.]])\n",
        "print(data)"
      ],
      "metadata": {
        "colab": {
          "base_uri": "https://localhost:8080/"
        },
        "id": "0x-qCeaH1gzK",
        "outputId": "e6fa202b-1e44-4b27-db70-02b917393d9b"
      },
      "execution_count": 32,
      "outputs": [
        {
          "output_type": "stream",
          "name": "stdout",
          "text": [
            "     0    1    2\n",
            "0  1.0  6.5  3.0\n",
            "1  1.0  NaN  NaN\n",
            "2  NaN  NaN  NaN\n",
            "3  NaN  6.5  3.0\n"
          ]
        }
      ]
    },
    {
      "cell_type": "code",
      "source": [
        "cleaned = data.dropna()\n",
        "print(cleaned)"
      ],
      "metadata": {
        "colab": {
          "base_uri": "https://localhost:8080/"
        },
        "id": "3BUPQk4k2__H",
        "outputId": "be3eb434-d8f0-43ea-819b-f9836835128a"
      },
      "execution_count": 28,
      "outputs": [
        {
          "output_type": "stream",
          "name": "stdout",
          "text": [
            "     0    1    2\n",
            "0  1.0  6.5  3.0\n"
          ]
        }
      ]
    },
    {
      "cell_type": "code",
      "source": [
        "print(data.dropna(how='all'))"
      ],
      "metadata": {
        "colab": {
          "base_uri": "https://localhost:8080/"
        },
        "id": "gZeb0w6-3CGf",
        "outputId": "a470b15f-09e4-45c6-8831-f1dd6d19cc2c"
      },
      "execution_count": 29,
      "outputs": [
        {
          "output_type": "stream",
          "name": "stdout",
          "text": [
            "     0    1    2\n",
            "0  1.0  6.5  3.0\n",
            "1  1.0  NaN  NaN\n",
            "3  NaN  6.5  3.0\n"
          ]
        }
      ]
    },
    {
      "cell_type": "code",
      "source": [
        "print(data.dropna(axis=1,how='all'))"
      ],
      "metadata": {
        "colab": {
          "base_uri": "https://localhost:8080/"
        },
        "id": "8hqS7EyJ3daw",
        "outputId": "3dfb5df7-076d-4219-9657-d639e595774b"
      },
      "execution_count": 33,
      "outputs": [
        {
          "output_type": "stream",
          "name": "stdout",
          "text": [
            "     0    1    2\n",
            "0  1.0  6.5  3.0\n",
            "1  1.0  NaN  NaN\n",
            "2  NaN  NaN  NaN\n",
            "3  NaN  6.5  3.0\n"
          ]
        }
      ]
    },
    {
      "cell_type": "code",
      "source": [
        "print(data.fillna(2))"
      ],
      "metadata": {
        "colab": {
          "base_uri": "https://localhost:8080/"
        },
        "id": "lEzVrWBy4Tt7",
        "outputId": "f9f1dd58-fb37-40ae-d445-67fc7aaf8c62"
      },
      "execution_count": 35,
      "outputs": [
        {
          "output_type": "stream",
          "name": "stdout",
          "text": [
            "     0    1    2\n",
            "0  1.0  6.5  3.0\n",
            "1  1.0  2.0  2.0\n",
            "2  2.0  2.0  2.0\n",
            "3  2.0  6.5  3.0\n"
          ]
        }
      ]
    },
    {
      "cell_type": "code",
      "source": [
        "print(data.fillna({0: 2, 1: 0.5, 2: -1}))"
      ],
      "metadata": {
        "colab": {
          "base_uri": "https://localhost:8080/"
        },
        "id": "YdSDvcx241es",
        "outputId": "e2c7f7ec-01a2-49c9-f7a5-55d69b5daa37"
      },
      "execution_count": 36,
      "outputs": [
        {
          "output_type": "stream",
          "name": "stdout",
          "text": [
            "     0    1    2\n",
            "0  1.0  6.5  3.0\n",
            "1  1.0  0.5 -1.0\n",
            "2  2.0  0.5 -1.0\n",
            "3  2.0  6.5  3.0\n"
          ]
        }
      ]
    },
    {
      "cell_type": "code",
      "source": [
        "print(data.fillna(method='ffill'))"
      ],
      "metadata": {
        "colab": {
          "base_uri": "https://localhost:8080/"
        },
        "id": "855c_6695WkH",
        "outputId": "3c23e8b7-da62-4a70-d828-d49874b28881"
      },
      "execution_count": 37,
      "outputs": [
        {
          "output_type": "stream",
          "name": "stdout",
          "text": [
            "     0    1    2\n",
            "0  1.0  6.5  3.0\n",
            "1  1.0  6.5  3.0\n",
            "2  1.0  6.5  3.0\n",
            "3  1.0  6.5  3.0\n"
          ]
        }
      ]
    },
    {
      "cell_type": "code",
      "source": [
        "print(data.isnull())"
      ],
      "metadata": {
        "colab": {
          "base_uri": "https://localhost:8080/"
        },
        "id": "ymeKel-E5woW",
        "outputId": "6423ece9-1bed-4d47-82b6-3fcac28ed3a0"
      },
      "execution_count": 38,
      "outputs": [
        {
          "output_type": "stream",
          "name": "stdout",
          "text": [
            "       0      1      2\n",
            "0  False  False  False\n",
            "1  False   True   True\n",
            "2   True   True   True\n",
            "3   True  False  False\n"
          ]
        }
      ]
    },
    {
      "cell_type": "code",
      "source": [
        "print(data.notnull())"
      ],
      "metadata": {
        "colab": {
          "base_uri": "https://localhost:8080/"
        },
        "id": "U01d0f736QGv",
        "outputId": "0279de9a-3f94-4323-bfb0-38527479f917"
      },
      "execution_count": 39,
      "outputs": [
        {
          "output_type": "stream",
          "name": "stdout",
          "text": [
            "       0      1      2\n",
            "0   True   True   True\n",
            "1   True  False  False\n",
            "2  False  False  False\n",
            "3  False   True   True\n"
          ]
        }
      ]
    },
    {
      "cell_type": "code",
      "source": [
        "import pandas as pd\n",
        "data = pd.DataFrame({'k1': ['one'] * 3 +\n",
        "['two'] * 4, 'k2': [1, 1, 2, 3, 3, 4, 4]})\n",
        "print(data)"
      ],
      "metadata": {
        "colab": {
          "base_uri": "https://localhost:8080/"
        },
        "id": "xdYp57Wx6iDV",
        "outputId": "ef9b97c8-85b0-4cf6-b68e-9d623b5bb62f"
      },
      "execution_count": 40,
      "outputs": [
        {
          "output_type": "stream",
          "name": "stdout",
          "text": [
            "    k1  k2\n",
            "0  one   1\n",
            "1  one   1\n",
            "2  one   2\n",
            "3  two   3\n",
            "4  two   3\n",
            "5  two   4\n",
            "6  two   4\n"
          ]
        }
      ]
    },
    {
      "cell_type": "code",
      "source": [
        "print(data.duplicated())"
      ],
      "metadata": {
        "colab": {
          "base_uri": "https://localhost:8080/"
        },
        "id": "nYfSnnBO92fv",
        "outputId": "71e44cc5-b6ea-4587-faf2-7eff714d86b3"
      },
      "execution_count": 41,
      "outputs": [
        {
          "output_type": "stream",
          "name": "stdout",
          "text": [
            "0    False\n",
            "1     True\n",
            "2    False\n",
            "3    False\n",
            "4     True\n",
            "5    False\n",
            "6     True\n",
            "dtype: bool\n"
          ]
        }
      ]
    },
    {
      "cell_type": "code",
      "source": [
        "print(data.drop_duplicates())"
      ],
      "metadata": {
        "colab": {
          "base_uri": "https://localhost:8080/"
        },
        "id": "K_3E-U2a_xBS",
        "outputId": "a81655ef-5f9f-4d4c-c0c8-98cb9e957d38"
      },
      "execution_count": 42,
      "outputs": [
        {
          "output_type": "stream",
          "name": "stdout",
          "text": [
            "    k1  k2\n",
            "0  one   1\n",
            "2  one   2\n",
            "3  two   3\n",
            "5  two   4\n"
          ]
        }
      ]
    },
    {
      "cell_type": "code",
      "source": [
        "data['v1'] = range(7)\n",
        "print(data.drop_duplicates(['k2']))"
      ],
      "metadata": {
        "colab": {
          "base_uri": "https://localhost:8080/"
        },
        "id": "gB6asYm7_3y3",
        "outputId": "50296c1b-6705-4783-fa3b-81efdbe93f0b"
      },
      "execution_count": 44,
      "outputs": [
        {
          "output_type": "stream",
          "name": "stdout",
          "text": [
            "    k1  k2  v1\n",
            "0  one   1   0\n",
            "2  one   2   2\n",
            "3  two   3   3\n",
            "5  two   4   5\n"
          ]
        }
      ]
    },
    {
      "cell_type": "code",
      "source": [
        "print(data.drop_duplicates(['k1', 'k2'], keep='first'))"
      ],
      "metadata": {
        "colab": {
          "base_uri": "https://localhost:8080/"
        },
        "id": "-yrTp5tCAlZ9",
        "outputId": "7e1b9118-5894-475a-ff57-e754988cbbdf"
      },
      "execution_count": 46,
      "outputs": [
        {
          "output_type": "stream",
          "name": "stdout",
          "text": [
            "    k1  k2  v1\n",
            "0  one   1   0\n",
            "2  one   2   2\n",
            "3  two   3   3\n",
            "5  two   4   5\n"
          ]
        }
      ]
    },
    {
      "cell_type": "code",
      "source": [
        "data=pd.DataFrame({'food': ['bacon', 'pulled pork',\n",
        "'bacon', 'Pastrami','corned beef', 'Bacon', 'pastrami',\n",
        "'honey ham','nova lox'],'ounces': [4, 3, 12, 6, 7.5, 8, 3,\n",
        "5, 6]})\n",
        "print(data)\n",
        "\n",
        "\n",
        "\n",
        "\n"
      ],
      "metadata": {
        "colab": {
          "base_uri": "https://localhost:8080/"
        },
        "id": "MGmGDO0mBz7O",
        "outputId": "49e0744c-36d7-44b7-c743-ca620938b6d9"
      },
      "execution_count": 48,
      "outputs": [
        {
          "output_type": "stream",
          "name": "stdout",
          "text": [
            "          food  ounces\n",
            "0        bacon     4.0\n",
            "1  pulled pork     3.0\n",
            "2        bacon    12.0\n",
            "3     Pastrami     6.0\n",
            "4  corned beef     7.5\n",
            "5        Bacon     8.0\n",
            "6     pastrami     3.0\n",
            "7    honey ham     5.0\n",
            "8     nova lox     6.0\n"
          ]
        }
      ]
    },
    {
      "cell_type": "code",
      "source": [
        "meat_to_animal = {'bacon': 'pig','pulled pork': 'pig',\n",
        "'pastrami': 'cow','corned beef': 'cow',\n",
        "'honey ham': 'pig','nova lox': 'salmon'}\n",
        "data['animal'] =data['food'].map(str.lower).map(meat_to_animal)\n",
        "print(data)"
      ],
      "metadata": {
        "colab": {
          "base_uri": "https://localhost:8080/"
        },
        "id": "obm95zn6cqVY",
        "outputId": "f603716a-7786-4a5c-83e7-0ee29057aaad"
      },
      "execution_count": 50,
      "outputs": [
        {
          "output_type": "stream",
          "name": "stdout",
          "text": [
            "          food  ounces  animal\n",
            "0        bacon     4.0     pig\n",
            "1  pulled pork     3.0     pig\n",
            "2        bacon    12.0     pig\n",
            "3     Pastrami     6.0     cow\n",
            "4  corned beef     7.5     cow\n",
            "5        Bacon     8.0     pig\n",
            "6     pastrami     3.0     cow\n",
            "7    honey ham     5.0     pig\n",
            "8     nova lox     6.0  salmon\n"
          ]
        }
      ]
    },
    {
      "cell_type": "code",
      "source": [
        "data['food'].map(lambda x: meat_to_animal[x.lower()])"
      ],
      "metadata": {
        "colab": {
          "base_uri": "https://localhost:8080/"
        },
        "id": "iS7E_Dg2cvkE",
        "outputId": "c2701997-37cb-4699-e9ae-e0d6c91d723c"
      },
      "execution_count": 51,
      "outputs": [
        {
          "output_type": "execute_result",
          "data": {
            "text/plain": [
              "0       pig\n",
              "1       pig\n",
              "2       pig\n",
              "3       cow\n",
              "4       cow\n",
              "5       pig\n",
              "6       cow\n",
              "7       pig\n",
              "8    salmon\n",
              "Name: food, dtype: object"
            ]
          },
          "metadata": {},
          "execution_count": 51
        }
      ]
    },
    {
      "cell_type": "code",
      "source": [
        "from numpy import nan as NA\n",
        "data = pd.Series([1., -999., 2., -999., -1000., 3.])\n",
        "print(data)\n"
      ],
      "metadata": {
        "colab": {
          "base_uri": "https://localhost:8080/"
        },
        "id": "9plXceAudC4-",
        "outputId": "914fbf79-dff7-417f-96e4-a002bf05cce8"
      },
      "execution_count": 60,
      "outputs": [
        {
          "output_type": "stream",
          "name": "stdout",
          "text": [
            "0       1.0\n",
            "1    -999.0\n",
            "2       2.0\n",
            "3    -999.0\n",
            "4   -1000.0\n",
            "5       3.0\n",
            "dtype: float64\n"
          ]
        }
      ]
    },
    {
      "cell_type": "code",
      "source": [
        "print(data.replace(-999,NA))"
      ],
      "metadata": {
        "colab": {
          "base_uri": "https://localhost:8080/"
        },
        "id": "RoGysYsBdsfc",
        "outputId": "ec36a791-f4d6-4528-c0fa-64a4753fddc1"
      },
      "execution_count": 62,
      "outputs": [
        {
          "output_type": "stream",
          "name": "stdout",
          "text": [
            "0       1.0\n",
            "1       NaN\n",
            "2       2.0\n",
            "3       NaN\n",
            "4   -1000.0\n",
            "5       3.0\n",
            "dtype: float64\n"
          ]
        }
      ]
    },
    {
      "cell_type": "code",
      "source": [
        "data.replace([-999, -1000], NA)"
      ],
      "metadata": {
        "colab": {
          "base_uri": "https://localhost:8080/"
        },
        "id": "_ErqFpGQeVpX",
        "outputId": "ada19d81-bea7-4824-f474-023c2b5b2081"
      },
      "execution_count": 63,
      "outputs": [
        {
          "output_type": "execute_result",
          "data": {
            "text/plain": [
              "0    1.0\n",
              "1    NaN\n",
              "2    2.0\n",
              "3    NaN\n",
              "4    NaN\n",
              "5    3.0\n",
              "dtype: float64"
            ]
          },
          "metadata": {},
          "execution_count": 63
        }
      ]
    },
    {
      "cell_type": "code",
      "source": [
        "data.replace([-999, -1000], [NA,0])"
      ],
      "metadata": {
        "colab": {
          "base_uri": "https://localhost:8080/"
        },
        "id": "3QGLG0QOfC3C",
        "outputId": "752843e5-69dd-41af-9dab-3972c60f30bb"
      },
      "execution_count": 65,
      "outputs": [
        {
          "output_type": "execute_result",
          "data": {
            "text/plain": [
              "0    1.0\n",
              "1    NaN\n",
              "2    2.0\n",
              "3    NaN\n",
              "4    0.0\n",
              "5    3.0\n",
              "dtype: float64"
            ]
          },
          "metadata": {},
          "execution_count": 65
        }
      ]
    },
    {
      "cell_type": "code",
      "source": [
        "data.replace({-999: NA, -1000: 0})"
      ],
      "metadata": {
        "colab": {
          "base_uri": "https://localhost:8080/"
        },
        "id": "ioP0dEAqfJgW",
        "outputId": "37b44d44-3ad4-44fa-c5e4-e4fc702d3042"
      },
      "execution_count": 66,
      "outputs": [
        {
          "output_type": "execute_result",
          "data": {
            "text/plain": [
              "0    1.0\n",
              "1    NaN\n",
              "2    2.0\n",
              "3    NaN\n",
              "4    0.0\n",
              "5    3.0\n",
              "dtype: float64"
            ]
          },
          "metadata": {},
          "execution_count": 66
        }
      ]
    },
    {
      "cell_type": "code",
      "source": [
        "import numpy as np\n",
        "data = pd.DataFrame(np.arange(9).reshape((3, 3)),\n",
        "index=['Ohio', 'Colorado', 'New York'],\n",
        "columns=['one', 'two', 'three' ])\n",
        "print(data)"
      ],
      "metadata": {
        "colab": {
          "base_uri": "https://localhost:8080/"
        },
        "id": "FC3ilimwfYJY",
        "outputId": "6e5645ab-24d0-4f17-bfd5-85c47d881215"
      },
      "execution_count": 88,
      "outputs": [
        {
          "output_type": "stream",
          "name": "stdout",
          "text": [
            "          one  two  three\n",
            "Ohio        0    1      2\n",
            "Colorado    3    4      5\n",
            "New York    6    7      8\n"
          ]
        }
      ]
    },
    {
      "cell_type": "code",
      "source": [
        "data.index = data.index.map(str.upper)\n",
        "print(data)"
      ],
      "metadata": {
        "colab": {
          "base_uri": "https://localhost:8080/"
        },
        "id": "uEf_oxPVgXmn",
        "outputId": "b250ee88-f479-473b-d625-219d98885b9c"
      },
      "execution_count": 79,
      "outputs": [
        {
          "output_type": "stream",
          "name": "stdout",
          "text": [
            "          one  two  three\n",
            "OHIO        0    1      2\n",
            "COLORADO    3    4      5\n",
            "NEW YORK    6    7      8\n"
          ]
        }
      ]
    },
    {
      "cell_type": "code",
      "source": [
        "print(data.rename(index=str.upper,\n",
        "columns=str.upper))"
      ],
      "metadata": {
        "colab": {
          "base_uri": "https://localhost:8080/"
        },
        "id": "-gInZew_hUxi",
        "outputId": "8338f2c8-f9de-4b3c-c087-b5df357d93b7"
      },
      "execution_count": 82,
      "outputs": [
        {
          "output_type": "stream",
          "name": "stdout",
          "text": [
            "          ONE  TWO  THREE\n",
            "OHIO        0    1      2\n",
            "COLORADO    3    4      5\n",
            "NEW YORK    6    7      8\n"
          ]
        }
      ]
    },
    {
      "cell_type": "code",
      "source": [
        "print(data.rename(index={'OHIO': 'INDIANA'},\n",
        "columns={'three': 'peekaboo'}))"
      ],
      "metadata": {
        "colab": {
          "base_uri": "https://localhost:8080/"
        },
        "id": "z9w_2zWKhc2T",
        "outputId": "57338997-85e3-442f-8be7-c4eef28118a2"
      },
      "execution_count": 83,
      "outputs": [
        {
          "output_type": "stream",
          "name": "stdout",
          "text": [
            "          one  two  peekaboo\n",
            "INDIANA     0    1         2\n",
            "COLORADO    3    4         5\n",
            "NEW YORK    6    7         8\n"
          ]
        }
      ]
    },
    {
      "cell_type": "code",
      "source": [
        "_ = data.rename(index={'OHIO': 'INDIANA'},\n",
        "inplace=True)\n",
        "print(data)"
      ],
      "metadata": {
        "colab": {
          "base_uri": "https://localhost:8080/"
        },
        "id": "VQdI2SDJiJ0D",
        "outputId": "d5a62165-5bcd-4e48-c42c-695af4c0e6be"
      },
      "execution_count": 87,
      "outputs": [
        {
          "output_type": "stream",
          "name": "stdout",
          "text": [
            "          one  two  three\n",
            "INDIANA     0    1      2\n",
            "COLORADO    3    4      5\n",
            "NEW YORK    6    7      8\n"
          ]
        }
      ]
    },
    {
      "cell_type": "code",
      "source": [],
      "metadata": {
        "id": "of2ADYvpiXaW"
      },
      "execution_count": null,
      "outputs": []
    }
  ]
}